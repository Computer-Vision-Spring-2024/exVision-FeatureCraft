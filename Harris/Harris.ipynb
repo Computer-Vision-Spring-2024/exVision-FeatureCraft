{
 "cells": [
  {
   "cell_type": "code",
   "execution_count": 30,
   "metadata": {},
   "outputs": [],
   "source": [
    "import cv2\n",
    "import numpy as np\n",
    "from matplotlib import pyplot as plt"
   ]
  },
  {
   "cell_type": "code",
   "execution_count": 31,
   "metadata": {},
   "outputs": [],
   "source": [
    "def harris_detection(img_path,window_size,k,threshold):\n",
    "    corner_list = []\n",
    "    img = cv2.imread(img_path)\n",
    "    gray = cv2.cvtColor(img,cv2.COLOR_BGR2GRAY)\n",
    "    output_img = cv2.cvtColor(gray.copy(), cv2.COLOR_GRAY2RGB)\n",
    "\n",
    "    # Check if the image exists\n",
    "    if img is None:\n",
    "        print('Invalid image:' + img_path)\n",
    "        return None\n",
    "    else:\n",
    "        print('Image successfully read...')\n",
    "\n",
    "    height = img.shape[0]   #.shape[0] outputs height \n",
    "    width = img.shape[1]    #.shape[1] outputs width .shape[2] outputs color channels of image\n",
    "    \n",
    "    #   Step 1 - Calculate the x , y image derivatives (dx , dy)\n",
    "    dy, dx = np.gradient(gray)\n",
    "\n",
    "    #   Step 2 - Calculate product and second derivatives (dx2, dy2 e dxy)\n",
    "    Ixx = dx**2\n",
    "    Ixy = dy*dx\n",
    "    Iyy = dy**2\n",
    "\n",
    "    offset = int(window_size/2)\n",
    "    y_range = height - offset\n",
    "    x_range = width - offset\n",
    "\n",
    "    print (\"Finding Corners...\")\n",
    "    for y in range(offset, y_range):\n",
    "        for x in range(offset, x_range):\n",
    "            start_y = y - offset\n",
    "            end_y = y + offset + 1\n",
    "            start_x = x - offset\n",
    "            end_x = x + offset + 1\n",
    "            #The variable names are similar to the variable names of the Harris corner equation\n",
    "            windowIxx = Ixx[start_y : end_y, start_x : end_x]\n",
    "            windowIxy = Ixy[start_y : end_y, start_x : end_x]\n",
    "            windowIyy = Iyy[start_y : end_y, start_x : end_x]\n",
    "            \n",
    "            #Sum of squares of intensities of partial derivatives \n",
    "            Sxx = windowIxx.sum()\n",
    "            Sxy = windowIxy.sum()\n",
    "            Syy = windowIyy.sum()\n",
    "\n",
    "            #Calculate determinant and trace of the matrix\n",
    "            det = (Sxx * Syy) - (Sxy**2)\n",
    "            trace = Sxx + Syy\n",
    "            \n",
    "            #Calculate r for Harris Corner equation\n",
    "            r = det - k*(trace**2)\n",
    "    \n",
    "    #   Step 6 - Apply a threshold\n",
    "            if r > threshold:\n",
    "                corner_list.append([x, y, r])\n",
    "                output_img[y,x] = (0,0,255)\n",
    "    return corner_list, output_img \n"
   ]
  },
  {
   "cell_type": "markdown",
   "metadata": {},
   "source": [
    "# CV Harris\n"
   ]
  },
  {
   "cell_type": "code",
   "execution_count": 32,
   "metadata": {},
   "outputs": [
    {
     "name": "stdout",
     "output_type": "stream",
     "text": [
      "Detecting Corners Started!\n",
      "Image successfully read...\n",
      "Finding Corners...\n"
     ]
    }
   ],
   "source": [
    "# Python program to illustrate \n",
    "# corner detection with \n",
    "# Harris Corner Detection Method \n",
    "\n",
    "\n",
    "# path to input image specified and \n",
    "# image is loaded with imread command \n",
    "image = cv2.imread(\"D:/Muhammad/College/Computer Vision/Assignments/Assignment 3/Harris-Corner-600x570.jpg\") \n",
    "\n",
    "# convert the input image into \n",
    "# grayscale color space \n",
    "operatedImage = cv2.cvtColor(image, cv2.COLOR_BGR2GRAY) \n",
    "\n",
    "# modify the data type \n",
    "# setting to 32-bit floating point \n",
    "operatedImage = np.float32(operatedImage) \n",
    "\n",
    "# apply the cv2.cornerHarris method \n",
    "# to detect the corners with appropriate \n",
    "# values as input parameters \n",
    "dest = cv2.cornerHarris(operatedImage, 2, 5, 0.07) \n",
    "\n",
    "# Results are marked through the dilated corners \n",
    "dest = cv2.dilate(dest, None) \n",
    "\n",
    "# Reverting back to the original image, \n",
    "# with optimal threshold value \n",
    "image[dest > 0.01 * dest.max()]=[0, 0, 255] \n",
    "\n",
    "k = 0.04\n",
    "window_size = 5\n",
    "threshold = 10000\n",
    "print (\"Detecting Corners Started!\")\n",
    "corner_list, corner_img = harris_detection(\"D:/Muhammad/College/Computer Vision/Assignments/Assignment 3/Harris-Corner-600x570.jpg\", window_size, k, threshold)\n",
    "\n",
    "# the window showing output image with corners \n",
    "cv2.imshow('Our Detected Corners', corner_img)\n",
    "cv2.imshow('CV Image with Borders', image) \n",
    "cv2.waitKey(0)\n",
    "cv2.destroyAllWindows() \n"
   ]
  }
 ],
 "metadata": {
  "kernelspec": {
   "display_name": "Python 3",
   "language": "python",
   "name": "python3"
  },
  "language_info": {
   "codemirror_mode": {
    "name": "ipython",
    "version": 3
   },
   "file_extension": ".py",
   "mimetype": "text/x-python",
   "name": "python",
   "nbconvert_exporter": "python",
   "pygments_lexer": "ipython3",
   "version": "3.11.5"
  }
 },
 "nbformat": 4,
 "nbformat_minor": 2
}
